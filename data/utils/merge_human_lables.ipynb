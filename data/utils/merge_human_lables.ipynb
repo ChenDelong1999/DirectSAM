{
 "cells": [
  {
   "cell_type": "code",
   "execution_count": null,
   "metadata": {},
   "outputs": [],
   "source": [
    "import os\n",
    "import tqdm\n",
    "import json\n",
    "from PIL import Image\n",
    "import matplotlib.pyplot as plt\n",
    "from pycocotools.mask import encode, decode\n",
    "import cv2\n",
    "import numpy as np\n",
    "import random\n",
    "\n",
    "dataset_root = '/home/dchenbs/workspace/datasets/DSA/DirectSAM-1800px-0424'\n",
    "subsets = os.listdir(dataset_root)\n",
    "\n",
    "image_path_to_sample = {}\n",
    "for subset in subsets:\n",
    "    if subset == 'Merged':\n",
    "        continue\n",
    "    subset_path = os.path.join(dataset_root, subset)\n",
    "    files = os.listdir(subset_path)\n",
    "    print(subset, len(files))\n",
    "    for file in tqdm.tqdm(files):\n",
    "        if file.startswith('_'):\n",
    "            continue\n",
    "        file = os.path.join(subset_path, file)\n",
    "        sample = json.load(open(file))\n",
    "\n",
    "        if sample['image_path'] not in image_path_to_sample:\n",
    "            image_path_to_sample[sample['image_path']] = [file]\n",
    "        else:\n",
    "            image_path_to_sample[sample['image_path']].append(file)"
   ]
  },
  {
   "cell_type": "code",
   "execution_count": null,
   "metadata": {},
   "outputs": [],
   "source": [
    "print(f'Total number of images: {len(image_path_to_sample)}')\n",
    "image_path_to_sample = {image_path: files for image_path, files in image_path_to_sample.items() if len(files) > 1}\n",
    "print(f'Total more than one target images: {len(image_path_to_sample)}')"
   ]
  },
  {
   "cell_type": "code",
   "execution_count": null,
   "metadata": {},
   "outputs": [],
   "source": [
    "folders = []\n",
    "\n",
    "for k, v in tqdm.tqdm(image_path_to_sample.items()):\n",
    "    folder = os.path.dirname(k)\n",
    "    if folder not in folders:\n",
    "        folders.append(folder)\n",
    "\n",
    "print(folders)"
   ]
  },
  {
   "cell_type": "code",
   "execution_count": null,
   "metadata": {},
   "outputs": [],
   "source": [
    "os.makedirs(os.path.join(dataset_root, 'COCO'), exist_ok=True)\n",
    "os.makedirs(os.path.join(dataset_root, 'ImageNet'), exist_ok=True)\n",
    "\n",
    "image_paths = list(image_path_to_sample.keys())\n",
    "for image_path in tqdm.tqdm(image_paths):\n",
    "    files = image_path_to_sample[image_path]\n",
    "\n",
    "    if 'coco2017' in image_path:\n",
    "        output_folder = 'COCO'\n",
    "    elif 'imagenet' in image_path:\n",
    "        output_folder = 'ImageNet'\n",
    "    else:\n",
    "        raise ValueError(f'Unknown dataset: {image_path}')\n",
    "\n",
    "    output_file = os.path.join(dataset_root, output_folder, os.path.basename(image_path)).split('.')[0] + '.json'\n",
    "    \n",
    "    human_labels = []\n",
    "    for i, file in enumerate(files):\n",
    "        sample = json.load(open(file))\n",
    "        human_labels.append(sample['human_label'][0])\n",
    "    sample['human_label'] = human_labels\n",
    "    \n",
    "    json.dump(sample, open(output_file, 'w'), indent=4)\n",
    "\n",
    "    for file in files:\n",
    "        os.rename(file, file.replace(os.path.basename(file), '_' + os.path.basename(file)))\n",
    "        # print(f'Renaming {file} to {file.replace(os.path.basename(file), \"_\" + os.path.basename(file))}')\n",
    "    # break"
   ]
  }
 ],
 "metadata": {
  "kernelspec": {
   "display_name": "subobject",
   "language": "python",
   "name": "python3"
  },
  "language_info": {
   "codemirror_mode": {
    "name": "ipython",
    "version": 3
   },
   "file_extension": ".py",
   "mimetype": "text/x-python",
   "name": "python",
   "nbconvert_exporter": "python",
   "pygments_lexer": "ipython3",
   "version": "3.9.19"
  }
 },
 "nbformat": 4,
 "nbformat_minor": 2
}
