{
 "cells": [
  {
   "cell_type": "code",
   "execution_count": null,
   "metadata": {},
   "outputs": [],
   "source": [
    "import json\n",
    "from PIL import Image\n",
    "import random\n",
    "import tqdm\n",
    "import numpy as np\n",
    "import matplotlib.pyplot as plt\n",
    "\n",
    "device = \"cuda\""
   ]
  },
  {
   "cell_type": "code",
   "execution_count": null,
   "metadata": {},
   "outputs": [],
   "source": [
    "from data.create_dataset import create_dataset\n",
    "\n",
    "dataset_config = json.load(open('data/dataset_configs.json', 'r'))['DSA_gen2']\n",
    "print(dataset_config)\n",
    "\n",
    "dataset = create_dataset(dataset_config, 'train', 1024, thickness=5)\n"
   ]
  },
  {
   "cell_type": "code",
   "execution_count": null,
   "metadata": {},
   "outputs": [],
   "source": [
    "from model.contour_denoiser import ContourDenoiser\n",
    "\n",
    "denoiser = ContourDenoiser(max_tokens=64, area_threshold=100, device='cuda', radius=3)\n",
    "\n",
    "\n",
    "for i in tqdm.tqdm(range(10)):\n",
    "    # sample = dataset[i]\n",
    "    sample = dataset[random.randint(0, len(dataset)-1)]\n",
    "\n",
    "    image = sample['image']\n",
    "    target = sample['label']\n",
    "\n",
    "    denoised_target = denoiser.contour_denoising(target)\n",
    "\n",
    "    plt.figure(figsize=(25, 10))\n",
    "    plt.subplot(1, 3, 1)\n",
    "    plt.imshow(image)\n",
    "    plt.axis('off')\n",
    "    plt.title('Input image')\n",
    "    \n",
    "    plt.subplot(1, 3, 2)\n",
    "    plt.imshow(target, cmap='Reds', alpha=1)\n",
    "    plt.imshow(image, alpha=0.4)\n",
    "    plt.axis('off')\n",
    "    plt.title('Ground Truth Label')\n",
    "    \n",
    "    plt.subplot(1, 3, 3)\n",
    "    plt.imshow(denoised_target, cmap='Reds', alpha=1)\n",
    "    plt.imshow(image, alpha=0.4)\n",
    "    plt.axis('off')\n",
    "    plt.title('denoised target')\n",
    "\n",
    "    plt.tight_layout()\n",
    "    plt.show()"
   ]
  }
 ],
 "metadata": {
  "kernelspec": {
   "display_name": "subobject",
   "language": "python",
   "name": "python3"
  },
  "language_info": {
   "codemirror_mode": {
    "name": "ipython",
    "version": 3
   },
   "file_extension": ".py",
   "mimetype": "text/x-python",
   "name": "python",
   "nbconvert_exporter": "python",
   "pygments_lexer": "ipython3",
   "version": "3.9.19"
  }
 },
 "nbformat": 4,
 "nbformat_minor": 2
}
