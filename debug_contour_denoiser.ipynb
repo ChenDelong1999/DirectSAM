{
 "cells": [
  {
   "cell_type": "code",
   "execution_count": null,
   "metadata": {},
   "outputs": [],
   "source": [
    "import json\n",
    "from PIL import Image\n",
    "import random\n",
    "import tqdm\n",
    "import numpy as np\n",
    "import matplotlib.pyplot as plt\n",
    "\n",
    "device = \"cuda\"\n"
   ]
  },
  {
   "cell_type": "code",
   "execution_count": null,
   "metadata": {},
   "outputs": [],
   "source": [
    "from data.create_dataset import create_dataset\n",
    "\n",
    "dataset_configs = json.load(open('data/dataset_configs.json', 'r'))\n",
    "print(dataset_configs.keys())\n",
    "# dataset_config = dataset_configs['directsa_plus']\n",
    "# dataset_config = dataset_configs['directsam_pseudo_label_merged']\n",
    "dataset_config = dataset_configs['directsam_pseudo_label_merged_denoised']\n",
    "# dataset_config = dataset_configs['COCONut-b']\n",
    "dataset = create_dataset(dataset_config, split='train', resolution=768, thickness=3)"
   ]
  },
  {
   "cell_type": "code",
   "execution_count": null,
   "metadata": {},
   "outputs": [],
   "source": [
    "from model.contour_denoiser import contour_denoising\n",
    "\n",
    "for i in tqdm.tqdm(range(10)):\n",
    "    # sample = dataset[i]\n",
    "    sample = dataset[random.randint(0, len(dataset)-1)]\n",
    "\n",
    "    if type(sample) == dict:\n",
    "        image = sample['image']\n",
    "        target = sample['label']\n",
    "    else:\n",
    "        image, target = sample\n",
    "\n",
    "    denoised_target = contour_denoising(target, device, skip_merging=4, radius=2, area_ratio=1/1000)\n",
    "\n",
    "    plt.figure(figsize=(25, 10))\n",
    "    plt.subplot(1, 3, 1)\n",
    "    plt.imshow(image)\n",
    "    plt.axis('off')\n",
    "    plt.title('Input image')\n",
    "    \n",
    "    plt.subplot(1, 3, 2)\n",
    "    plt.imshow(target, cmap='Reds', alpha=1)\n",
    "    plt.imshow(image, alpha=0.4)\n",
    "    plt.axis('off')\n",
    "    plt.title('Ground Truth Label')\n",
    "    \n",
    "    plt.subplot(1, 3, 3)\n",
    "    plt.imshow(denoised_target, cmap='Reds', alpha=1)\n",
    "    plt.imshow(image, alpha=0.4)\n",
    "    plt.axis('off')\n",
    "    plt.title('denoised target')\n",
    "\n",
    "    plt.tight_layout()\n",
    "    plt.show()"
   ]
  }
 ],
 "metadata": {
  "kernelspec": {
   "display_name": "subobject",
   "language": "python",
   "name": "python3"
  },
  "language_info": {
   "codemirror_mode": {
    "name": "ipython",
    "version": 3
   },
   "file_extension": ".py",
   "mimetype": "text/x-python",
   "name": "python",
   "nbconvert_exporter": "python",
   "pygments_lexer": "ipython3",
   "version": "3.9.19"
  }
 },
 "nbformat": 4,
 "nbformat_minor": 2
}
