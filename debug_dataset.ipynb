{
 "cells": [
  {
   "cell_type": "code",
   "execution_count": null,
   "metadata": {},
   "outputs": [],
   "source": [
    "import random\n",
    "import matplotlib.pyplot as plt\n",
    "import numpy as np\n",
    "import os\n",
    "import json\n",
    "\n",
    "from data_.create_dataset import create_dataset\n",
    "\n",
    "dataset_configs = json.load(open('data/dataset_configs.json', 'r'))\n",
    "print(dataset_configs.keys())"
   ]
  },
  {
   "cell_type": "code",
   "execution_count": null,
   "metadata": {},
   "outputs": [],
   "source": [
    "\n",
    "\n",
    "keys = ['Fashionpedia']\n",
    "\n",
    "for key in keys:\n",
    "    config = dataset_configs[key]\n",
    "    for split in ['train', 'validation']:\n",
    "\n",
    "        dataset = create_dataset(config, split, 768, thickness=5)\n",
    "\n",
    "        print(key, split, len(dataset), len(dataset.image_paths))\n",
    "        print(config)\n",
    "\n",
    "        for index in range(3):\n",
    "            index = random.randint(0, len(dataset)-1)\n",
    "            sample = dataset[index]\n",
    "\n",
    "            image = sample['image']\n",
    "            label = sample['label']\n",
    "            label_map = sample['label_map']\n",
    "\n",
    "            image_path = dataset.image_paths[index]\n",
    "            assert os.path.exists(image_path)\n",
    "\n",
    "            plt.figure(figsize=(30, 10))\n",
    "            plt.subplot(1, 3, 1)\n",
    "            plt.imshow(image)\n",
    "\n",
    "            plt.subplot(1, 3, 2)\n",
    "            plt.imshow(label_map)\n",
    "\n",
    "            plt.subplot(1, 3, 3)\n",
    "            plt.imshow(label, cmap='Blues')\n",
    "            plt.imshow(image, alpha=0.4)\n",
    "\n",
    "            plt.show()"
   ]
  }
 ],
 "metadata": {
  "kernelspec": {
   "display_name": "subobject",
   "language": "python",
   "name": "python3"
  },
  "language_info": {
   "codemirror_mode": {
    "name": "ipython",
    "version": 3
   },
   "file_extension": ".py",
   "mimetype": "text/x-python",
   "name": "python",
   "nbconvert_exporter": "python",
   "pygments_lexer": "ipython3",
   "version": "3.9.19"
  }
 },
 "nbformat": 4,
 "nbformat_minor": 2
}
