{
 "cells": [
  {
   "cell_type": "code",
   "execution_count": null,
   "metadata": {},
   "outputs": [],
   "source": [
    "import os\n",
    "import matplotlib.pyplot as plt\n",
    "import seaborn as sns\n",
    "sns.set_theme(style=\"whitegrid\")\n",
    "\n",
    "result_dir = '/home/dchenbs/workspace/DirectSAM/outputs/effective_boundary_recall'\n",
    "datasets = os.listdir(result_dir)\n",
    "\n",
    "results = {}\n",
    "\n",
    "for dataset in datasets:\n",
    "    results[dataset] = {}\n",
    "    models = os.listdir(os.path.join(result_dir, dataset))\n",
    "    models = set([sub_folder.split('-threshold')[0] for sub_folder in models])\n",
    "\n",
    "    for model in models:\n",
    "        results[dataset][model] = {}\n",
    "\n",
    "    for model in models:\n",
    "        for thereshod in os.listdir(os.path.join(result_dir, dataset, model)):\n",
    "\n",
    "            files = os.listdir(os.path.join(result_dir, dataset, model, thereshod))\n",
    "            files = [file for file in files if file.endswith('.csv')]\n",
    "            if len(files) != 0:\n",
    "                files.sort()\n",
    "                line = open(os.path.join(result_dir, dataset, model, thereshod, files[-1])).readlines()[-1].split('\\t')\n",
    "\n",
    "                mean_recall = float(line[-2]) if line[-2] != '' else 0\n",
    "                mean_precision = float(line[-1].strip()) if line[-1] != '' else 0\n",
    "                results[dataset][model][float(thereshod.split('@')[1])] = [mean_recall, mean_precision]\n"
   ]
  },
  {
   "cell_type": "code",
   "execution_count": null,
   "metadata": {},
   "outputs": [],
   "source": [
    "for dataset in datasets:\n",
    "    plt.figure(figsize=(20, 10))\n",
    "    print(dataset)\n",
    "    models = list(results[dataset].keys())\n",
    "    models.sort()\n",
    "    for model in models:\n",
    "        print(model)\n",
    "\n",
    "    models = [\n",
    "        'chendelong-DirectSAM-1800px-0424', \n",
    "        'chendelong-DirectSAM-gen1-1024px-1008',\n",
    "        'chendelong-DirectSAM-gen2-1024px-1014',\n",
    "        \"chendelong-DirectSAM-gen3-1024px-1023\",\n",
    "        'chendelong-DirectSAM-b0-1024px-sa1b-2ep-1016'\n",
    "        ]\n",
    "\n",
    "    # for model, model_results in results[dataset].items():\n",
    "    for model in models:\n",
    "        model_results = results[dataset][model]\n",
    "        thresholds = list(model_results.keys())\n",
    "        thresholds.sort()\n",
    "        print(f'\\t{model}:\\t{thresholds}')\n",
    "\n",
    "        recalls = [model_results[threshold][0] for threshold in thresholds]\n",
    "        tokens = [model_results[threshold][1] for threshold in thresholds]\n",
    "\n",
    "        plt.plot(tokens, recalls, label=model)\n",
    "        plt.scatter(tokens, recalls)\n",
    "\n",
    "        for i, txt in enumerate(thresholds):\n",
    "            plt.annotate(f'.{int(recalls[i]*1000)} ({txt})', (tokens[i]-2, recalls[i]+0.003), fontsize=10)\n",
    "\n",
    "        plt.xlabel('Num Tokens')\n",
    "        plt.ylabel('Recall')\n",
    "        plt.title(dataset)\n",
    "        plt.legend()\n",
    "    plt.show()"
   ]
  }
 ],
 "metadata": {
  "kernelspec": {
   "display_name": "subobject",
   "language": "python",
   "name": "python3"
  },
  "language_info": {
   "codemirror_mode": {
    "name": "ipython",
    "version": 3
   },
   "file_extension": ".py",
   "mimetype": "text/x-python",
   "name": "python",
   "nbconvert_exporter": "python",
   "pygments_lexer": "ipython3",
   "version": "3.9.19"
  }
 },
 "nbformat": 4,
 "nbformat_minor": 2
}
